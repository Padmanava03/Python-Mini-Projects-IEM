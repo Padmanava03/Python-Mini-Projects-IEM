{
 "cells": [
  {
   "cell_type": "code",
   "execution_count": null,
   "metadata": {},
   "outputs": [],
   "source": [
    "import networkx as nx\n",
    "import matplotlib.pyplot as plt"
   ]
  },
  {
   "cell_type": "code",
   "execution_count": null,
   "metadata": {},
   "outputs": [],
   "source": [
    "graph = nx.read_edgelist(\"facebook_combined.txt\")"
   ]
  },
  {
   "cell_type": "code",
   "execution_count": null,
   "metadata": {},
   "outputs": [],
   "source": [
    "def bfs(graph, start_node, end_node):\n",
    "    visited = set()\n",
    "    queue = [[start_node]]\n",
    "    while queue:\n",
    "        path = queue.pop(0)\n",
    "        node = path[-1]\n",
    "        if node == end_node:\n",
    "            return path\n",
    "        if node not in visited:\n",
    "            neighbors = graph.neighbors(node)\n",
    "            for neighbor in neighbors:\n",
    "                new_path = list(path)\n",
    "                new_path.append(neighbor)\n",
    "                queue.append(new_path)\n",
    "            visited.add(node)\n",
    "    return None"
   ]
  },
  {
   "cell_type": "code",
   "execution_count": null,
   "metadata": {},
   "outputs": [],
   "source": [
    "def dfs(graph, start_node):\n",
    "    visited = set()\n",
    "    stack = [[start_node]]\n",
    "    paths = []\n",
    "    while stack:\n",
    "        path = stack.pop()\n",
    "        node = path[-1]\n",
    "        if node not in visited:\n",
    "            neighbors = graph.neighbors(node)\n",
    "            for neighbor in neighbors:\n",
    "                new_path = list(path)\n",
    "                new_path.append(neighbor)\n",
    "                stack.append(new_path)\n",
    "            visited.add(node)\n",
    "            paths.append(path)\n",
    "    return paths"
   ]
  },
  {
   "cell_type": "code",
   "execution_count": null,
   "metadata": {},
   "outputs": [],
   "source": [
    "start_user = input(\"Enter the starting user: \")\n",
    "end_user = input(\"Enter the ending user: \")"
   ]
  },
  {
   "cell_type": "code",
   "execution_count": null,
   "metadata": {},
   "outputs": [],
   "source": [
    "bfs_path = bfs(graph, start_user, end_user)\n",
    "dfs_paths = dfs(graph, start_user)"
   ]
  },
  {
   "cell_type": "code",
   "execution_count": null,
   "metadata": {},
   "outputs": [],
   "source": [
    "print(f\"BFS Path from {start_user} to {end_user}:\", bfs_path)\n",
    "print(\"All explored DFS paths:\")\n",
    "for path in dfs_paths:\n",
    "    print(path)"
   ]
  },
  {
   "cell_type": "code",
   "execution_count": null,
   "metadata": {},
   "outputs": [],
   "source": [
    "pos = nx.spring_layout(graph)\n",
    "nx.draw(graph, pos, with_labels=True, node_color='lightblue')\n",
    "nx.draw_networkx_edges(graph, pos, edgelist=graph.edges(), edge_color='gray')\n",
    "plt.title(\"Facebook Social Network\")\n",
    "plt.show()"
   ]
  },
  {
   "cell_type": "code",
   "execution_count": null,
   "metadata": {},
   "outputs": [],
   "source": [
    "if bfs_path:\n",
    "    bfs_path_edges = [(bfs_path[i], bfs_path[i+1]) for i in range(len(bfs_path)-1)]\n",
    "    bfs_path_graph = nx.Graph()\n",
    "    bfs_path_graph.add_edges_from(bfs_path_edges)\n",
    "    pos_bfs = nx.spring_layout(bfs_path_graph)\n",
    "    nx.draw(bfs_path_graph, pos_bfs, with_labels=True, node_color='lightblue')\n",
    "    nx.draw_networkx_edges(bfs_path_graph, pos_bfs, edgelist=bfs_path_graph.edges(), edge_color='red')\n",
    "    plt.title(\"BFS Path\")\n",
    "    plt.show()"
   ]
  },
  {
   "cell_type": "code",
   "execution_count": null,
   "metadata": {},
   "outputs": [],
   "source": [
    "for i, path in enumerate(dfs_paths):\n",
    "    dfs_path_edges = [(path[j], path[j+1]) for j in range(len(path)-1)]\n",
    "    dfs_path_graph = nx.Graph()\n",
    "    dfs_path_graph.add_edges_from(dfs_path_edges)\n",
    "    pos_dfs = nx.spring_layout(dfs_path_graph)\n",
    "    nx.draw(dfs_path_graph, pos_dfs, with_labels=True, node_color='lightblue')\n",
    "    nx.draw_networkx_edges(dfs_path_graph, pos_dfs, edgelist=dfs_path_graph.edges(), edge_color='green')\n",
    "    plt.title(f\"DFS Path {i+1}\")\n",
    "    plt.show()\n"
   ]
  }
 ],
 "metadata": {
  "kernelspec": {
   "display_name": ".venv",
   "language": "python",
   "name": "python3"
  },
  "language_info": {
   "codemirror_mode": {
    "name": "ipython",
    "version": 3
   },
   "file_extension": ".py",
   "mimetype": "text/x-python",
   "name": "python",
   "nbconvert_exporter": "python",
   "pygments_lexer": "ipython3",
   "version": "3.12.3"
  }
 },
 "nbformat": 4,
 "nbformat_minor": 2
}
